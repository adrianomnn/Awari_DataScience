{
 "cells": [
  {
   "cell_type": "code",
   "execution_count": 1,
   "metadata": {},
   "outputs": [],
   "source": [
    "import requests\n",
    "from bs4 import BeautifulSoup"
   ]
  },
  {
   "cell_type": "code",
   "execution_count": 28,
   "metadata": {},
   "outputs": [],
   "source": [
    "URL ='https://www.vivareal.com.br/aluguel/sp/sao-paulo/apartamento_residencial/'  #põe as chaves no final para concatenar depois"
   ]
  },
  {
   "cell_type": "code",
   "execution_count": 29,
   "metadata": {},
   "outputs": [],
   "source": [
    "c = requests.get(URL).content\n",
    "soup = BeautifulSoup(c)"
   ]
  },
  {
   "cell_type": "code",
   "execution_count": 1,
   "metadata": {},
   "outputs": [],
   "source": [
    "#soup"
   ]
  },
  {
   "cell_type": "code",
   "execution_count": 31,
   "metadata": {},
   "outputs": [],
   "source": [
    "#você pega a classe, pelo código fonte HTML, da parte que você quer a informação. Utilizando o \"inspecionar elemento\", analisando o código fonte da página. \n",
    "# No caso, ela quer o texto do anúncio.\n",
    "\n",
    "nome_anuncio = soup.find_all('span', {'class':'property-card__title js-cardLink js-card-title'})"
   ]
  },
  {
   "cell_type": "code",
   "execution_count": 45,
   "metadata": {},
   "outputs": [
    {
     "data": {
      "text/plain": [
       "'  Apartamento com  Quarto para Aluguel, 40m²  '"
      ]
     },
     "execution_count": 45,
     "metadata": {},
     "output_type": "execute_result"
    }
   ],
   "source": [
    "nome_anuncio[0].text"
   ]
  },
  {
   "cell_type": "code",
   "execution_count": 19,
   "metadata": {},
   "outputs": [],
   "source": [
    "#quando muda de página, o URL muda; só o final dele.\n",
    "#exemplo: https://www.vivareal.com.br/aluguel/sp/sao-paulo/apartamento_residencial/?pagina=2\n",
    "\n",
    "paginas = [''] #na primeira página não tem nada, então deixa vazio\n",
    "for i in range(2, 5):\n",
    "    a = '?pagina='+str(i)\n",
    "    paginas.append(a)"
   ]
  },
  {
   "cell_type": "code",
   "execution_count": 20,
   "metadata": {},
   "outputs": [
    {
     "data": {
      "text/plain": [
       "['', '?pagina=2', '?pagina=3', '?pagina=4']"
      ]
     },
     "execution_count": 20,
     "metadata": {},
     "output_type": "execute_result"
    }
   ],
   "source": [
    "paginas"
   ]
  },
  {
   "cell_type": "code",
   "execution_count": 21,
   "metadata": {},
   "outputs": [],
   "source": [
    "import pandas as pd\n",
    "def converter_df(aluguel_lista, quartos_lista, endereco_lista, banheiro_lista, vaga_lista):\n",
    "    data = {'aluguel': aluguel_lista, 'quartos': quartos_lista, 'endereco': endereco_lista, 'banheiro': banheiro_lista,'vaga': vaga_lista}\n",
    "    df = pd.DataFrame(data)\n",
    "    return df"
   ]
  },
  {
   "cell_type": "code",
   "execution_count": 59,
   "metadata": {},
   "outputs": [],
   "source": [
    "def scrap(url):\n",
    "    c = requests.get(url).content\n",
    "    soup = BeautifulSoup(c)\n",
    "    \n",
    "    aluguel_tag = soup.find_all('div', {'class':'property-card__price js-property-card-prices js-property-card__price-small'})\n",
    "    aluguel_lista = [p.text for p in aluguel_tag]\n",
    "    \n",
    "    quartos_tag = soup.find_all('li', {'class':'property-card__detail-item property-card__detail-room js-property-detail-rooms'})\n",
    "    quartos_lista = [en.text for en in quartos_tag]\n",
    "\n",
    "    endereco_tag = soup.find_all('span', {'class':'property-card__address'})\n",
    "    endereco_lista = [fg.text for fg in endereco_tag]\n",
    "    \n",
    "    banheiro_tag = soup.find_all('li', {'class':'property-card__detail-item property-card__detail-bathroom js-property-detail-bathroom'})\n",
    "    banheiro_lista = [yp.text for yp in banheiro_tag]\n",
    "    \n",
    "    vaga_tag = soup.find_all('li', {'class':'property-card__detail-item property-card__detail-garage js-property-detail-garages'})\n",
    "    vaga_lista = [vg.text for vg in vaga_tag]\n",
    "    \n",
    "    df = converter_df(aluguel_lista, quartos_lista, endereco_lista, banheiro_lista, vaga_lista)\n",
    "    \n",
    "    return df"
   ]
  },
  {
   "cell_type": "code",
   "execution_count": 68,
   "metadata": {},
   "outputs": [
    {
     "name": "stdout",
     "output_type": "stream",
     "text": [
      "Coletando URL: https://www.vivareal.com.br/aluguel/sp/sao-paulo/apartamento_residencial/\n",
      "Coletando URL: https://www.vivareal.com.br/aluguel/sp/sao-paulo/apartamento_residencial/?pagina=2\n",
      "Coletando URL: https://www.vivareal.com.br/aluguel/sp/sao-paulo/apartamento_residencial/?pagina=3\n",
      "Coletando URL: https://www.vivareal.com.br/aluguel/sp/sao-paulo/apartamento_residencial/?pagina=4\n"
     ]
    }
   ],
   "source": [
    "import time\n",
    "\n",
    "URL2 ='https://www.vivareal.com.br/aluguel/sp/sao-paulo/apartamento_residencial/{}'  #põe as chaves no final para concatenar depois\n",
    "df_lista = []\n",
    "for pg in paginas:\n",
    "    url = URL2.format(pg)\n",
    "    print('Coletando URL:', url)\n",
    "    try:\n",
    "        df = scrap(url)\n",
    "    except Exception as e: #adiciona uma exceção. O 'e' é de erro.\n",
    "        print('Erro ao coletar dados na url:', url)\n",
    "        print(e)\n",
    "    df_lista.append(df)\n",
    "    time.sleep(5)\n",
    "    \n",
    "df_final = pd.concat(df_lista)"
   ]
  },
  {
   "cell_type": "code",
   "execution_count": 61,
   "metadata": {},
   "outputs": [
    {
     "data": {
      "text/html": [
       "<div>\n",
       "<style scoped>\n",
       "    .dataframe tbody tr th:only-of-type {\n",
       "        vertical-align: middle;\n",
       "    }\n",
       "\n",
       "    .dataframe tbody tr th {\n",
       "        vertical-align: top;\n",
       "    }\n",
       "\n",
       "    .dataframe thead th {\n",
       "        text-align: right;\n",
       "    }\n",
       "</style>\n",
       "<table border=\"1\" class=\"dataframe\">\n",
       "  <thead>\n",
       "    <tr style=\"text-align: right;\">\n",
       "      <th></th>\n",
       "      <th>aluguel</th>\n",
       "      <th>quartos</th>\n",
       "      <th>endereco</th>\n",
       "      <th>banheiro</th>\n",
       "      <th>vaga</th>\n",
       "    </tr>\n",
       "  </thead>\n",
       "  <tbody>\n",
       "    <tr>\n",
       "      <th>0</th>\n",
       "      <td>R$ 1.800 /Mês</td>\n",
       "      <td>1   Quarto</td>\n",
       "      <td>Rua Juquis, 31 - Indianópolis, São Paulo - SP</td>\n",
       "      <td>1   Banheiro</td>\n",
       "      <td>--   Vaga</td>\n",
       "    </tr>\n",
       "    <tr>\n",
       "      <th>1</th>\n",
       "      <td>R$ 4.000 /Mês</td>\n",
       "      <td>2   Quartos</td>\n",
       "      <td>Rua Major Quedinho, 224 - Centro, São Paulo - SP</td>\n",
       "      <td>2   Banheiros</td>\n",
       "      <td>1   Vaga</td>\n",
       "    </tr>\n",
       "    <tr>\n",
       "      <th>2</th>\n",
       "      <td>R$ 6.850 /Mês</td>\n",
       "      <td>3   Quartos</td>\n",
       "      <td>Avenida Nazaré, 1180 - Ipiranga, São Paulo - SP</td>\n",
       "      <td>5   Banheiros</td>\n",
       "      <td>2   Vagas</td>\n",
       "    </tr>\n",
       "    <tr>\n",
       "      <th>3</th>\n",
       "      <td>R$ 1.800 /Mês</td>\n",
       "      <td>1   Quarto</td>\n",
       "      <td>Rua André Casado, 215 - Sumaré, São Paulo - SP</td>\n",
       "      <td>1   Banheiro</td>\n",
       "      <td>1   Vaga</td>\n",
       "    </tr>\n",
       "    <tr>\n",
       "      <th>4</th>\n",
       "      <td>R$ 5.165 /Mês    R$ 1.289.900</td>\n",
       "      <td>3   Quartos</td>\n",
       "      <td>Rua Helion Póvoa, 155 - Vila Olímpia, São Paul...</td>\n",
       "      <td>2   Banheiros</td>\n",
       "      <td>2   Vagas</td>\n",
       "    </tr>\n",
       "  </tbody>\n",
       "</table>\n",
       "</div>"
      ],
      "text/plain": [
       "                               aluguel          quartos  \\\n",
       "0                      R$ 1.800 /Mês       1   Quarto     \n",
       "1                      R$ 4.000 /Mês      2   Quartos     \n",
       "2                      R$ 6.850 /Mês      3   Quartos     \n",
       "3                      R$ 1.800 /Mês       1   Quarto     \n",
       "4     R$ 5.165 /Mês    R$ 1.289.900       3   Quartos     \n",
       "\n",
       "                                            endereco           banheiro  \\\n",
       "0      Rua Juquis, 31 - Indianópolis, São Paulo - SP     1   Banheiro     \n",
       "1   Rua Major Quedinho, 224 - Centro, São Paulo - SP    2   Banheiros     \n",
       "2    Avenida Nazaré, 1180 - Ipiranga, São Paulo - SP    5   Banheiros     \n",
       "3     Rua André Casado, 215 - Sumaré, São Paulo - SP     1   Banheiro     \n",
       "4  Rua Helion Póvoa, 155 - Vila Olímpia, São Paul...    2   Banheiros     \n",
       "\n",
       "            vaga  \n",
       "0    --   Vaga    \n",
       "1     1   Vaga    \n",
       "2    2   Vagas    \n",
       "3     1   Vaga    \n",
       "4    2   Vagas    "
      ]
     },
     "execution_count": 61,
     "metadata": {},
     "output_type": "execute_result"
    }
   ],
   "source": [
    "df_final.head()"
   ]
  },
  {
   "cell_type": "code",
   "execution_count": 63,
   "metadata": {},
   "outputs": [],
   "source": [
    "df_final['bairro'] = df_final.endereco.str.split('\\s-').str[1]  #seleciona pelo regex (expressão regular), depois do espaço e hífen\n",
    "df_final['rua'] = df_final.endereco.str.split('\\s-').str[0] #seleciona pelo regex (expressão regular), antes do espaço e hífen"
   ]
  },
  {
   "cell_type": "code",
   "execution_count": 66,
   "metadata": {},
   "outputs": [
    {
     "data": {
      "text/html": [
       "<div>\n",
       "<style scoped>\n",
       "    .dataframe tbody tr th:only-of-type {\n",
       "        vertical-align: middle;\n",
       "    }\n",
       "\n",
       "    .dataframe tbody tr th {\n",
       "        vertical-align: top;\n",
       "    }\n",
       "\n",
       "    .dataframe thead th {\n",
       "        text-align: right;\n",
       "    }\n",
       "</style>\n",
       "<table border=\"1\" class=\"dataframe\">\n",
       "  <thead>\n",
       "    <tr style=\"text-align: right;\">\n",
       "      <th></th>\n",
       "      <th>aluguel</th>\n",
       "      <th>quartos</th>\n",
       "      <th>endereco</th>\n",
       "      <th>banheiro</th>\n",
       "      <th>vaga</th>\n",
       "      <th>bairro</th>\n",
       "      <th>rua</th>\n",
       "    </tr>\n",
       "  </thead>\n",
       "  <tbody>\n",
       "    <tr>\n",
       "      <th>0</th>\n",
       "      <td>R$ 1.800 /Mês</td>\n",
       "      <td>1   Quarto</td>\n",
       "      <td>Rua Juquis, 31 - Indianópolis, São Paulo - SP</td>\n",
       "      <td>1   Banheiro</td>\n",
       "      <td>--   Vaga</td>\n",
       "      <td>Indianópolis, São Paulo</td>\n",
       "      <td>Rua Juquis, 31</td>\n",
       "    </tr>\n",
       "    <tr>\n",
       "      <th>1</th>\n",
       "      <td>R$ 4.000 /Mês</td>\n",
       "      <td>2   Quartos</td>\n",
       "      <td>Rua Major Quedinho, 224 - Centro, São Paulo - SP</td>\n",
       "      <td>2   Banheiros</td>\n",
       "      <td>1   Vaga</td>\n",
       "      <td>Centro, São Paulo</td>\n",
       "      <td>Rua Major Quedinho, 224</td>\n",
       "    </tr>\n",
       "    <tr>\n",
       "      <th>2</th>\n",
       "      <td>R$ 6.850 /Mês</td>\n",
       "      <td>3   Quartos</td>\n",
       "      <td>Avenida Nazaré, 1180 - Ipiranga, São Paulo - SP</td>\n",
       "      <td>5   Banheiros</td>\n",
       "      <td>2   Vagas</td>\n",
       "      <td>Ipiranga, São Paulo</td>\n",
       "      <td>Avenida Nazaré, 1180</td>\n",
       "    </tr>\n",
       "    <tr>\n",
       "      <th>3</th>\n",
       "      <td>R$ 1.800 /Mês</td>\n",
       "      <td>1   Quarto</td>\n",
       "      <td>Rua André Casado, 215 - Sumaré, São Paulo - SP</td>\n",
       "      <td>1   Banheiro</td>\n",
       "      <td>1   Vaga</td>\n",
       "      <td>Sumaré, São Paulo</td>\n",
       "      <td>Rua André Casado, 215</td>\n",
       "    </tr>\n",
       "    <tr>\n",
       "      <th>4</th>\n",
       "      <td>R$ 5.165 /Mês    R$ 1.289.900</td>\n",
       "      <td>3   Quartos</td>\n",
       "      <td>Rua Helion Póvoa, 155 - Vila Olímpia, São Paul...</td>\n",
       "      <td>2   Banheiros</td>\n",
       "      <td>2   Vagas</td>\n",
       "      <td>Vila Olímpia, São Paulo</td>\n",
       "      <td>Rua Helion Póvoa, 155</td>\n",
       "    </tr>\n",
       "  </tbody>\n",
       "</table>\n",
       "</div>"
      ],
      "text/plain": [
       "                               aluguel          quartos  \\\n",
       "0                      R$ 1.800 /Mês       1   Quarto     \n",
       "1                      R$ 4.000 /Mês      2   Quartos     \n",
       "2                      R$ 6.850 /Mês      3   Quartos     \n",
       "3                      R$ 1.800 /Mês       1   Quarto     \n",
       "4     R$ 5.165 /Mês    R$ 1.289.900       3   Quartos     \n",
       "\n",
       "                                            endereco           banheiro  \\\n",
       "0      Rua Juquis, 31 - Indianópolis, São Paulo - SP     1   Banheiro     \n",
       "1   Rua Major Quedinho, 224 - Centro, São Paulo - SP    2   Banheiros     \n",
       "2    Avenida Nazaré, 1180 - Ipiranga, São Paulo - SP    5   Banheiros     \n",
       "3     Rua André Casado, 215 - Sumaré, São Paulo - SP     1   Banheiro     \n",
       "4  Rua Helion Póvoa, 155 - Vila Olímpia, São Paul...    2   Banheiros     \n",
       "\n",
       "            vaga                    bairro                      rua  \n",
       "0    --   Vaga     Indianópolis, São Paulo           Rua Juquis, 31  \n",
       "1     1   Vaga           Centro, São Paulo  Rua Major Quedinho, 224  \n",
       "2    2   Vagas         Ipiranga, São Paulo     Avenida Nazaré, 1180  \n",
       "3     1   Vaga           Sumaré, São Paulo    Rua André Casado, 215  \n",
       "4    2   Vagas     Vila Olímpia, São Paulo    Rua Helion Póvoa, 155  "
      ]
     },
     "execution_count": 66,
     "metadata": {},
     "output_type": "execute_result"
    }
   ],
   "source": [
    "df_final.head()"
   ]
  }
 ],
 "metadata": {
  "kernelspec": {
   "display_name": "Python 3",
   "language": "python",
   "name": "python3"
  },
  "language_info": {
   "codemirror_mode": {
    "name": "ipython",
    "version": 3
   },
   "file_extension": ".py",
   "mimetype": "text/x-python",
   "name": "python",
   "nbconvert_exporter": "python",
   "pygments_lexer": "ipython3",
   "version": "3.7.0"
  }
 },
 "nbformat": 4,
 "nbformat_minor": 2
}
