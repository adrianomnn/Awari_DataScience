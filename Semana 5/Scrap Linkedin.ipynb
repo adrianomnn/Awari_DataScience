{
 "cells": [
  {
   "cell_type": "code",
   "execution_count": null,
   "metadata": {},
   "outputs": [],
   "source": [
    "## 1. Todas as importacoes\n",
    "from selenium import webdriver\n",
    "from time import sleep\n",
    "## 2. Todos os parametros\n",
    "URL_LINKEDIN_DS = 'https://br.linkedin.com/jobs/ci%C3%AAncia-de-dados-vagas?position=1&pageNum=0'\n",
    "\n",
    "## 3. Execucao do codigo\n",
    "if __name__ == '__main__':\n",
    "    # Criar uma instancia do Google Chrome pelo Selenium\n",
    "    driver = webdriver.Chrome()\n",
    "    driver.implicitly_wait(10)\n",
    "    \n",
    "    # Acessar URL do Linkedin\n",
    "    driver.get(URL_LINKEDIN_DS)\n",
    "\n",
    "    # Pegar lista de resultado de vagas de DS\n",
    "    resultados = driver.find_elements_by_class_name('result-card')    \n",
    "    lista_descricao = []\n",
    "    \n",
    "    # Iniar While loop em cima de todos os resultados\n",
    "    while True:\n",
    "        # For loop para coletar descrições de dados\n",
    "        for r in resultados[len(lista_descricao):]:\n",
    "            r.click() # Clicar na descricao\n",
    "            sleep(1)\n",
    "            try:\n",
    "                # Pegar elemento com a descricao\n",
    "                descricao = driver.find_element_by_class_name('description')\n",
    "                # Anexar o texto na lista \n",
    "                lista_descricao.append(descricao.text)\n",
    "            except:\n",
    "                print('Erro')\n",
    "                pass\n",
    "            \n",
    "        resultados = driver.find_elements_by_class_name('result-card')\n",
    "\n",
    "        # Critério de saída do While\n",
    "        if len(lista_descricao) == len(resultados):\n",
    "            break\n",
    "    \n",
    "    # Salvar descricões de vagas\n",
    "    descricao_salvar = '\\n'.join(lista_descricao)\n",
    "    with open('descricoes_vagas.txt', 'w') as f:\n",
    "        f.write(descricao_salvar)\n",
    "\n",
    "    # Fechar o Google Chrome\n",
    "    driver.quit()"
   ]
  }
 ],
 "metadata": {
  "kernelspec": {
   "display_name": "Python 3",
   "language": "python",
   "name": "python3"
  },
  "language_info": {
   "codemirror_mode": {
    "name": "ipython",
    "version": 3
   },
   "file_extension": ".py",
   "mimetype": "text/x-python",
   "name": "python",
   "nbconvert_exporter": "python",
   "pygments_lexer": "ipython3",
   "version": "3.7.0"
  }
 },
 "nbformat": 4,
 "nbformat_minor": 2
}
